{
 "cells": [
  {
   "cell_type": "code",
   "execution_count": 2,
   "metadata": {},
   "outputs": [
    {
     "name": "stderr",
     "output_type": "stream",
     "text": [
      "E:\\Anaconda3\\lib\\site-packages\\h5py\\__init__.py:36: FutureWarning: Conversion of the second argument of issubdtype from `float` to `np.floating` is deprecated. In future, it will be treated as `np.float64 == np.dtype(float).type`.\n",
      "  from ._conv import register_converters as _register_converters\n"
     ]
    }
   ],
   "source": [
    "import tensorflow as tf\n",
    "from tensorflow.examples.tutorials.mnist import input_data"
   ]
  },
  {
   "cell_type": "code",
   "execution_count": 3,
   "metadata": {},
   "outputs": [
    {
     "name": "stdout",
     "output_type": "stream",
     "text": [
      "WARNING:tensorflow:From <ipython-input-3-8394a0472595>:1: read_data_sets (from tensorflow.contrib.learn.python.learn.datasets.mnist) is deprecated and will be removed in a future version.\n",
      "Instructions for updating:\n",
      "Please use alternatives such as official/mnist/dataset.py from tensorflow/models.\n",
      "WARNING:tensorflow:From E:\\Anaconda3\\lib\\site-packages\\tensorflow\\contrib\\learn\\python\\learn\\datasets\\mnist.py:260: maybe_download (from tensorflow.contrib.learn.python.learn.datasets.base) is deprecated and will be removed in a future version.\n",
      "Instructions for updating:\n",
      "Please write your own downloading logic.\n",
      "WARNING:tensorflow:From E:\\Anaconda3\\lib\\site-packages\\tensorflow\\contrib\\learn\\python\\learn\\datasets\\mnist.py:262: extract_images (from tensorflow.contrib.learn.python.learn.datasets.mnist) is deprecated and will be removed in a future version.\n",
      "Instructions for updating:\n",
      "Please use tf.data to implement this functionality.\n",
      "Extracting MNIST_data/train-images-idx3-ubyte.gz\n",
      "WARNING:tensorflow:From E:\\Anaconda3\\lib\\site-packages\\tensorflow\\contrib\\learn\\python\\learn\\datasets\\mnist.py:267: extract_labels (from tensorflow.contrib.learn.python.learn.datasets.mnist) is deprecated and will be removed in a future version.\n",
      "Instructions for updating:\n",
      "Please use tf.data to implement this functionality.\n",
      "Extracting MNIST_data/train-labels-idx1-ubyte.gz\n",
      "WARNING:tensorflow:From E:\\Anaconda3\\lib\\site-packages\\tensorflow\\contrib\\learn\\python\\learn\\datasets\\mnist.py:110: dense_to_one_hot (from tensorflow.contrib.learn.python.learn.datasets.mnist) is deprecated and will be removed in a future version.\n",
      "Instructions for updating:\n",
      "Please use tf.one_hot on tensors.\n",
      "Extracting MNIST_data/t10k-images-idx3-ubyte.gz\n",
      "Extracting MNIST_data/t10k-labels-idx1-ubyte.gz\n",
      "WARNING:tensorflow:From E:\\Anaconda3\\lib\\site-packages\\tensorflow\\contrib\\learn\\python\\learn\\datasets\\mnist.py:290: DataSet.__init__ (from tensorflow.contrib.learn.python.learn.datasets.mnist) is deprecated and will be removed in a future version.\n",
      "Instructions for updating:\n",
      "Please use alternatives such as official/mnist/dataset.py from tensorflow/models.\n"
     ]
    }
   ],
   "source": [
    "mnist = input_data.read_data_sets('MNIST_data/',one_hot=True)\n",
    "x = tf.placeholder(tf.float32,[None,784])\n",
    "y_ = tf.placeholder(tf.float32,[None,10])"
   ]
  },
  {
   "cell_type": "code",
   "execution_count": 4,
   "metadata": {},
   "outputs": [],
   "source": [
    "x_image = tf.reshape(x,[-1,28,28,1])"
   ]
  },
  {
   "cell_type": "code",
   "execution_count": 5,
   "metadata": {},
   "outputs": [],
   "source": [
    "# 截断正态分布初始化\n",
    "def weight_variable(shape):\n",
    "    initial = tf.truncated_normal(shape,stddev=0.1)\n",
    "    return tf.Variable(initial)\n",
    "\n",
    "def bias_variable(shape):\n",
    "    initial = tf.constant(0.1,shape=shape)\n",
    "    return tf.Variable(initial)\n",
    "\n",
    "def conv2d(x,w):\n",
    "    return tf.nn.conv2d(x,w,strides=[1,1,1,1],padding='SAME')\n",
    "\n",
    "def max_pool_2x2(x):\n",
    "    return tf.nn.max_pool(x,ksize=[1,2,2,1],strides=[1,2,2,1],padding=\"SAME\")"
   ]
  },
  {
   "cell_type": "code",
   "execution_count": 6,
   "metadata": {},
   "outputs": [],
   "source": [
    "#第一卷积层\n",
    "W_conv1 = weight_variable([5,5,1,32])\n",
    "b_conv1 = bias_variable([32])\n",
    "h_conv1 = tf.nn.relu(conv2d(x_image,W_conv1)+b_conv1)\n",
    "h_pool1 = max_pool_2x2(h_conv1)"
   ]
  },
  {
   "cell_type": "code",
   "execution_count": 7,
   "metadata": {},
   "outputs": [],
   "source": [
    "#第二卷积层\n",
    "W_conv2 = weight_variable([5,5,32,64])\n",
    "b_conv2 = bias_variable([64])\n",
    "h_conv2 = tf.nn.relu(conv2d(h_pool1,W_conv2)+b_conv2)\n",
    "h_pool2 = max_pool_2x2(h_conv2)"
   ]
  },
  {
   "cell_type": "code",
   "execution_count": 8,
   "metadata": {},
   "outputs": [],
   "source": [
    "#全连接层\n",
    "W_fc1 = weight_variable([7*7*64,1024])\n",
    "b_fc1 = bias_variable([1024])\n",
    "h_pool2_flat = tf.reshape(h_pool2,[-1,7*7*64])\n",
    "h_fc1 = tf.nn.relu(tf.matmul(h_pool2_flat,W_fc1)+b_fc1)\n",
    "keep_prob = tf.placeholder(tf.float32)\n",
    "h_fc1_drop = tf.nn.dropout(h_fc1,keep_prob)"
   ]
  },
  {
   "cell_type": "code",
   "execution_count": 9,
   "metadata": {},
   "outputs": [],
   "source": [
    "#最后的全连接层\n",
    "W_fc2 = weight_variable([1024,10])\n",
    "b_fc2 = bias_variable([10])\n",
    "y_conv = tf.matmul(h_fc1_drop,W_fc2)+b_fc2"
   ]
  },
  {
   "cell_type": "code",
   "execution_count": 10,
   "metadata": {},
   "outputs": [],
   "source": [
    "#交叉熵\n",
    "cross_entropy = tf.reduce_mean(tf.nn.softmax_cross_entropy_with_logits_v2(labels=y_,logits=y_conv))\n",
    "train_step = tf.train.AdamOptimizer(1e-4).minimize(cross_entropy)"
   ]
  },
  {
   "cell_type": "code",
   "execution_count": 11,
   "metadata": {},
   "outputs": [],
   "source": [
    "correct_prediction = tf.equal(tf.argmax(y_conv,1),tf.argmax(y_,1))\n",
    "accuracy = tf.reduce_mean(tf.cast(correct_prediction,tf.float32))"
   ]
  },
  {
   "cell_type": "code",
   "execution_count": 12,
   "metadata": {},
   "outputs": [],
   "source": [
    "sess = tf.InteractiveSession()\n",
    "sess.run(tf.global_variables_initializer())"
   ]
  },
  {
   "cell_type": "code",
   "execution_count": 13,
   "metadata": {},
   "outputs": [
    {
     "name": "stdout",
     "output_type": "stream",
     "text": [
      "step 0,training accuracy 0.08\n",
      "step 100,training accuracy 0.7\n",
      "step 200,training accuracy 0.94\n",
      "step 300,training accuracy 0.96\n",
      "step 400,training accuracy 0.84\n",
      "step 500,training accuracy 0.94\n",
      "step 600,training accuracy 0.92\n",
      "step 700,training accuracy 0.98\n",
      "step 800,training accuracy 0.96\n",
      "step 900,training accuracy 0.94\n",
      "step 1000,training accuracy 0.94\n",
      "step 1100,training accuracy 0.94\n",
      "step 1200,training accuracy 0.98\n",
      "step 1300,training accuracy 1\n",
      "step 1400,training accuracy 0.98\n",
      "step 1500,training accuracy 0.98\n",
      "step 1600,training accuracy 0.94\n",
      "step 1700,training accuracy 1\n",
      "step 1800,training accuracy 0.92\n",
      "step 1900,training accuracy 0.94\n",
      "step 2000,training accuracy 0.94\n",
      "step 2100,training accuracy 1\n",
      "step 2200,training accuracy 1\n",
      "step 2300,training accuracy 0.92\n",
      "step 2400,training accuracy 0.98\n",
      "step 2500,training accuracy 0.98\n",
      "step 2600,training accuracy 0.96\n",
      "step 2700,training accuracy 0.98\n",
      "step 2800,training accuracy 0.96\n",
      "step 2900,training accuracy 1\n",
      "step 3000,training accuracy 0.98\n",
      "step 3100,training accuracy 0.98\n",
      "step 3200,training accuracy 0.96\n",
      "step 3300,training accuracy 1\n",
      "step 3400,training accuracy 0.98\n",
      "step 3500,training accuracy 0.98\n",
      "step 3600,training accuracy 0.96\n",
      "step 3700,training accuracy 1\n",
      "step 3800,training accuracy 1\n",
      "step 3900,training accuracy 1\n",
      "step 4000,training accuracy 0.96\n",
      "step 4100,training accuracy 0.98\n",
      "step 4200,training accuracy 1\n",
      "step 4300,training accuracy 1\n",
      "step 4400,training accuracy 0.98\n",
      "step 4500,training accuracy 0.98\n",
      "step 4600,training accuracy 1\n",
      "step 4700,training accuracy 1\n",
      "step 4800,training accuracy 0.98\n",
      "step 4900,training accuracy 0.98\n",
      "step 5000,training accuracy 1\n",
      "step 5100,training accuracy 0.98\n",
      "step 5200,training accuracy 0.98\n",
      "step 5300,training accuracy 0.98\n",
      "step 5400,training accuracy 1\n",
      "step 5500,training accuracy 1\n",
      "step 5600,training accuracy 1\n",
      "step 5700,training accuracy 0.98\n",
      "step 5800,training accuracy 1\n",
      "step 5900,training accuracy 0.98\n",
      "step 6000,training accuracy 0.98\n",
      "step 6100,training accuracy 1\n",
      "step 6200,training accuracy 0.98\n",
      "step 6300,training accuracy 1\n",
      "step 6400,training accuracy 1\n",
      "step 6500,training accuracy 1\n",
      "step 6600,training accuracy 1\n",
      "step 6700,training accuracy 0.98\n",
      "step 6800,training accuracy 0.96\n",
      "step 6900,training accuracy 1\n",
      "step 7000,training accuracy 1\n",
      "step 7100,training accuracy 1\n",
      "step 7200,training accuracy 1\n",
      "step 7300,training accuracy 1\n",
      "step 7400,training accuracy 1\n",
      "step 7500,training accuracy 0.98\n",
      "step 7600,training accuracy 1\n",
      "step 7700,training accuracy 1\n",
      "step 7800,training accuracy 1\n",
      "step 7900,training accuracy 1\n",
      "step 8000,training accuracy 1\n",
      "step 8100,training accuracy 1\n",
      "step 8200,training accuracy 1\n",
      "step 8300,training accuracy 1\n",
      "step 8400,training accuracy 0.98\n",
      "step 8500,training accuracy 0.98\n",
      "step 8600,training accuracy 0.98\n",
      "step 8700,training accuracy 1\n",
      "step 8800,training accuracy 0.96\n",
      "step 8900,training accuracy 1\n",
      "step 9000,training accuracy 0.98\n",
      "step 9100,training accuracy 0.98\n",
      "step 9200,training accuracy 1\n",
      "step 9300,training accuracy 0.98\n",
      "step 9400,training accuracy 1\n",
      "step 9500,training accuracy 1\n",
      "step 9600,training accuracy 1\n",
      "step 9700,training accuracy 1\n",
      "step 9800,training accuracy 1\n",
      "step 9900,training accuracy 0.98\n"
     ]
    }
   ],
   "source": [
    "for i in range(10000):\n",
    "    batch = mnist.train.next_batch(50)\n",
    "    if i%100 == 0:\n",
    "        train_accuracy = accuracy.eval(feed_dict={x:batch[0],y_:batch[1],keep_prob:1.0})\n",
    "        print(\"step %d,training accuracy %g\" % (i,train_accuracy))\n",
    "    train_step.run(feed_dict={x:batch[0],y_:batch[1],keep_prob:0.5})\n",
    "#显存溢出\n",
    "#print(\"test accuracy %g\" % accuracy.eval(feed_dict={x:mnist.test.images,y_:mnist.test.labels,keep_prob:1.0}))"
   ]
  },
  {
   "cell_type": "code",
   "execution_count": 27,
   "metadata": {},
   "outputs": [
    {
     "name": "stdout",
     "output_type": "stream",
     "text": [
      "mean_value: 0.96 train_accuracy: 0.96\n",
      "mean_value: 100.1 train_accuracy: 1\n",
      "mean_value: 199.18 train_accuracy: 0.98\n",
      "mean_value: 298.22 train_accuracy: 1\n",
      "mean_value: 397.42 train_accuracy: 1\n",
      "mean_value: 496.58 train_accuracy: 1\n",
      "mean_value: 595.62 train_accuracy: 0.96\n",
      "mean_value: 694.76 train_accuracy: 1\n",
      "mean_value: 793.82 train_accuracy: 0.94\n",
      "mean_value: 892.88 train_accuracy: 1\n",
      "mean_value: 992.1 train_accuracy: 1\n",
      "mean_value: 1091.18 train_accuracy: 0.98\n",
      "mean_value: 1190.28 train_accuracy: 0.98\n",
      "mean_value: 1289.26 train_accuracy: 0.96\n",
      "mean_value: 1388.54 train_accuracy: 1\n",
      "mean_value: 1487.82 train_accuracy: 1\n",
      "mean_value: 1586.74 train_accuracy: 0.98\n",
      "mean_value: 1685.7 train_accuracy: 1\n",
      "mean_value: 1784.94 train_accuracy: 0.96\n",
      "mean_value: 1884.12 train_accuracy: 1\n",
      "mean_value: 1983.2 train_accuracy: 1\n",
      "mean_value: 2082.34 train_accuracy: 0.96\n",
      "mean_value: 2181.38 train_accuracy: 0.98\n",
      "mean_value: 2280.5 train_accuracy: 1\n",
      "mean_value: 2379.62 train_accuracy: 0.98\n",
      "mean_value: 2478.66 train_accuracy: 1\n",
      "mean_value: 2577.84 train_accuracy: 0.98\n",
      "mean_value: 2677.1 train_accuracy: 1\n",
      "mean_value: 2776.06 train_accuracy: 1\n",
      "mean_value: 2875.38 train_accuracy: 0.98\n",
      "mean_value: 2974.28 train_accuracy: 0.98\n",
      "mean_value: 3073.48 train_accuracy: 0.98\n",
      "mean_value: 3172.5 train_accuracy: 0.98\n",
      "mean_value: 3271.58 train_accuracy: 1\n",
      "mean_value: 3370.74 train_accuracy: 1\n",
      "mean_value: 3469.96 train_accuracy: 1\n",
      "mean_value: 3568.94 train_accuracy: 1\n",
      "mean_value: 3668.06 train_accuracy: 0.98\n",
      "mean_value: 3767.16 train_accuracy: 1\n",
      "mean_value: 3866.3 train_accuracy: 1\n",
      "mean_value: 3965.34 train_accuracy: 0.98\n",
      "mean_value: 4064.48 train_accuracy: 0.98\n",
      "mean_value: 4163.58 train_accuracy: 0.98\n",
      "mean_value: 4262.66 train_accuracy: 1\n",
      "mean_value: 4361.84 train_accuracy: 1\n",
      "mean_value: 4460.92 train_accuracy: 1\n",
      "mean_value: 4560.04 train_accuracy: 1\n",
      "mean_value: 4659.16 train_accuracy: 1\n",
      "mean_value: 4758.26 train_accuracy: 1\n",
      "mean_value: 4857.22 train_accuracy: 0.98\n",
      "mean_value: 4956.48 train_accuracy: 0.98\n",
      "mean_value: 5055.6 train_accuracy: 0.96\n",
      "mean_value: 5154.72 train_accuracy: 1\n",
      "mean_value: 5253.82 train_accuracy: 1\n",
      "mean_value: 5352.92 train_accuracy: 1\n",
      "mean_value: 5452.14 train_accuracy: 1\n",
      "mean_value: 5551.12 train_accuracy: 0.98\n",
      "mean_value: 5650.24 train_accuracy: 1\n",
      "mean_value: 5749.36 train_accuracy: 0.98\n",
      "mean_value: 5848.52 train_accuracy: 1\n",
      "mean_value: 5947.58 train_accuracy: 0.98\n",
      "mean_value: 6046.86 train_accuracy: 1\n",
      "mean_value: 6145.8 train_accuracy: 0.98\n",
      "mean_value: 6244.84 train_accuracy: 1\n",
      "mean_value: 6344.04 train_accuracy: 1\n",
      "mean_value: 6443.16 train_accuracy: 1\n",
      "mean_value: 6542.24 train_accuracy: 1\n",
      "mean_value: 6641.14 train_accuracy: 1\n",
      "mean_value: 6740.46 train_accuracy: 0.98\n",
      "mean_value: 6839.48 train_accuracy: 1\n",
      "mean_value: 6938.7 train_accuracy: 1\n",
      "mean_value: 7037.76 train_accuracy: 1\n",
      "mean_value: 7136.92 train_accuracy: 1\n",
      "mean_value: 7236.14 train_accuracy: 1\n",
      "mean_value: 7335.14 train_accuracy: 1\n",
      "mean_value: 7434.18 train_accuracy: 0.98\n",
      "mean_value: 7533.36 train_accuracy: 1\n",
      "mean_value: 7632.44 train_accuracy: 1\n",
      "mean_value: 7731.56 train_accuracy: 0.98\n",
      "mean_value: 7830.64 train_accuracy: 0.98\n",
      "mean_value: 7929.78 train_accuracy: 0.98\n",
      "mean_value: 8028.88 train_accuracy: 0.96\n",
      "mean_value: 8128.02 train_accuracy: 1\n",
      "mean_value: 8227.26 train_accuracy: 1\n",
      "mean_value: 8326.24 train_accuracy: 1\n",
      "mean_value: 8425.3 train_accuracy: 0.98\n",
      "mean_value: 8524.46 train_accuracy: 1\n",
      "mean_value: 8623.78 train_accuracy: 1\n",
      "mean_value: 8722.64 train_accuracy: 1\n",
      "mean_value: 8821.66 train_accuracy: 0.96\n",
      "mean_value: 8920.88 train_accuracy: 0.98\n",
      "mean_value: 9019.82 train_accuracy: 0.96\n",
      "mean_value: 9119.12 train_accuracy: 1\n",
      "mean_value: 9218.18 train_accuracy: 1\n",
      "mean_value: 9317.32 train_accuracy: 1\n",
      "mean_value: 9416.5 train_accuracy: 1\n",
      "mean_value: 9515.54 train_accuracy: 1\n",
      "mean_value: 9614.52 train_accuracy: 1\n",
      "mean_value: 9713.76 train_accuracy: 1\n",
      "mean_value: 9813.02 train_accuracy: 0.98\n",
      "test_accuracy: 0.9911\n"
     ]
    }
   ],
   "source": [
    "mean_value = 0.0\n",
    "for i in range(mnist.test.labels.shape[0]):\n",
    "    batch = mnist.test.next_batch(50)\n",
    "    train_accuracy = sess.run(accuracy,feed_dict={x:batch[0],y_:batch[1],keep_prob:1.0})\n",
    "    mean_value += train_accuracy\n",
    "    if i%100 == 0:\n",
    "        print(\"mean_value: %g train_accuracy: %g\" %(mean_value,train_accuracy))\n",
    "print('test_accuracy: %g' %(mean_value/mnist.test.labels.shape[0]))"
   ]
  },
  {
   "cell_type": "code",
   "execution_count": null,
   "metadata": {},
   "outputs": [],
   "source": []
  }
 ],
 "metadata": {
  "kernelspec": {
   "display_name": "Python 3",
   "language": "python",
   "name": "python3"
  },
  "language_info": {
   "codemirror_mode": {
    "name": "ipython",
    "version": 3
   },
   "file_extension": ".py",
   "mimetype": "text/x-python",
   "name": "python",
   "nbconvert_exporter": "python",
   "pygments_lexer": "ipython3",
   "version": "3.6.4"
  }
 },
 "nbformat": 4,
 "nbformat_minor": 2
}
